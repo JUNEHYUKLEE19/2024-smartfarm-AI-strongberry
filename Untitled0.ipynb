{
  "nbformat": 4,
  "nbformat_minor": 0,
  "metadata": {
    "colab": {
      "provenance": [],
      "authorship_tag": "ABX9TyP2i4XoPO19T2m4/22VxKIE",
      "include_colab_link": true
    },
    "kernelspec": {
      "name": "python3",
      "display_name": "Python 3"
    },
    "language_info": {
      "name": "python"
    }
  },
  "cells": [
    {
      "cell_type": "markdown",
      "metadata": {
        "id": "view-in-github",
        "colab_type": "text"
      },
      "source": [
        "<a href=\"https://colab.research.google.com/github/KimEunChae9506/2024-smartfarm-AI-strongberry/blob/main/Untitled0.ipynb\" target=\"_parent\"><img src=\"https://colab.research.google.com/assets/colab-badge.svg\" alt=\"Open In Colab\"/></a>"
      ]
    },
    {
      "cell_type": "code",
      "execution_count": 4,
      "metadata": {
        "colab": {
          "base_uri": "https://localhost:8080/"
        },
        "id": "eEqspRQEuy7C",
        "outputId": "fd4c3e87-d9e0-49b0-e9f1-7d95f47dbd86"
      },
      "outputs": [
        {
          "output_type": "stream",
          "name": "stdout",
          "text": [
            "Linear Regression:\n",
            "  Training R2: 0.4059\n",
            "  Test R2: 0.4108\n",
            "\n",
            "Random Forest:\n",
            "  Training R2: 0.9984\n",
            "  Test R2: 0.9912\n",
            "\n",
            "Support Vector Regressor:\n",
            "  Training R2: -0.3014\n",
            "  Test R2: -0.2984\n",
            "\n",
            "XGBoost:\n",
            "  Training R2: 0.9535\n",
            "  Test R2: 0.9367\n",
            "\n"
          ]
        }
      ],
      "source": [
        "import pandas as pd\n",
        "import numpy as np\n",
        "import csv\n",
        "from sklearn.model_selection import train_test_split\n",
        "from sklearn.preprocessing import StandardScaler\n",
        "from sklearn.ensemble import RandomForestRegressor\n",
        "from sklearn.linear_model import LinearRegression\n",
        "from sklearn.svm import SVR\n",
        "from xgboost import XGBRegressor\n",
        "from sklearn.metrics import r2_score\n",
        "import chardet\n",
        "\n",
        "# 데이터 로드\n",
        "file_path = '/content/dataset.csv'\n",
        "data = pd.read_csv(file_path)\n",
        "\n",
        "\n",
        "#f = open(file_path,'rt',encoding='UTF-8')\n",
        "#reader = csv.reader(f)\n",
        "\n",
        "#once contents are available, I then put them in a list\n",
        "#csv_list = []\n",
        "#for l in reader:\n",
        "#    csv_list.append(l)\n",
        "#f.close()\n",
        "#now pandas has no problem getting into a df\n",
        "#data = pd.DataFrame(csv_list)\n",
        "\n",
        "# 데이터 확인\n",
        "#print(data.head())\n",
        "#print(data.info())\n",
        "#print(data.describe())\n",
        "\n",
        "# 데이터 전처리 (결측값 처리, 필요시 인코딩 등)\n",
        "data = data.dropna()\n",
        "\n",
        "# 설명 변수(X)와 목표 변수(y) 분리\n",
        "# 'target'이라는 열이 목표 변수라고 가정합니다. 필요에 따라 수정하세요.\n",
        "X = data.drop('outtrn_cumsum', axis=1)\n",
        "y = data['outtrn_cumsum']\n",
        "\n",
        "# 데이터 분할 (학습용 데이터와 테스트용 데이터)\n",
        "X_train, X_test, y_train, y_test = train_test_split(X, y, test_size=0.2, random_state=42)\n",
        "\n",
        "# 데이터 스케일링\n",
        "scaler = StandardScaler()\n",
        "X_train_scaled = scaler.fit_transform(X_train)\n",
        "X_test_scaled = scaler.transform(X_test)\n",
        "\n",
        "# 모델 리스트\n",
        "models = {\n",
        "    \"Linear Regression\": LinearRegression(),\n",
        "    \"Random Forest\": RandomForestRegressor(random_state=42),\n",
        "    \"Support Vector Regressor\": SVR(),\n",
        "    \"XGBoost\": XGBRegressor(random_state=42)\n",
        "}\n",
        "\n",
        "# 모델 성능 평가\n",
        "results = {}\n",
        "for name, model in models.items():\n",
        "    model.fit(X_train_scaled, y_train)\n",
        "    y_train_pred = model.predict(X_train_scaled)\n",
        "    y_test_pred = model.predict(X_test_scaled)\n",
        "\n",
        "    train_r2 = r2_score(y_train, y_train_pred)\n",
        "    test_r2 = r2_score(y_test, y_test_pred)\n",
        "\n",
        "    results[name] = {\n",
        "        \"Train R2\": train_r2,\n",
        "        \"Test R2\": test_r2\n",
        "    }\n",
        "\n",
        "# 결과 출력\n",
        "for model_name, result in results.items():\n",
        "    print(f\"{model_name}:\")\n",
        "    print(f\"  Training R2: {result['Train R2']:.4f}\")\n",
        "    print(f\"  Test R2: {result['Test R2']:.4f}\\n\")\n"
      ]
    }
  ]
}